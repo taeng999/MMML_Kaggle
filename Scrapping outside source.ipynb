{
 "cells": [
  {
   "cell_type": "code",
   "execution_count": 1,
   "metadata": {
    "collapsed": true
   },
   "outputs": [],
   "source": [
    "import requests\n",
    "from bs4 import BeautifulSoup\n",
    "import pandas as pd"
   ]
  },
  {
   "cell_type": "code",
   "execution_count": 5,
   "metadata": {},
   "outputs": [],
   "source": [
    "years = []\n",
    "for i in range(2002, 2018):\n",
    "    years.append(i)"
   ]
  },
  {
   "cell_type": "code",
   "execution_count": 38,
   "metadata": {},
   "outputs": [],
   "source": [
    "def scrape_per_year(year):\n",
    "    req = requests.get('https://kenpom.com/index.php?y=' + str(year))\n",
    "    soup = BeautifulSoup(req.content, 'lxml')\n",
    "    table = soup.find('tbody')\n",
    "    \n",
    "    for row in table.find_all('tr'):\n",
    "        try:\n",
    "            team = row.find_all('td')[1].text\n",
    "            conf = row.find_all('td')[2].text\n",
    "            w_l = row.find_all('td')[3].text\n",
    "            url = row.find_all('td')[1].a.attrs['href']\n",
    "            adj_em = row.find_all('td')[4].text\n",
    "            adj_o = row.find_all('td')[5].text\n",
    "            adj_o_rank = row.find_all('td')[6].text\n",
    "            adj_d = row.find_all('td')[7].text\n",
    "            adj_d_rank = row.find_all('td')[8].text\n",
    "            adj_t = row.find_all('td')[9].text\n",
    "            adj_t_rank = row.find_all('td')[10].text\n",
    "            adj_luck = row.find_all('td')[11].text\n",
    "            opp_adj_em = row.find_all('td')[13].text\n",
    "            opp_o = row.find_all('td')[15].text\n",
    "            opp_d = row.find_all('td')[17].text\n",
    "        except:\n",
    "            pass\n",
    "        df.loc[len(df)] = [team, conf, w_l, url, adj_em,\\\n",
    "                           adj_o, adj_o_rank, adj_d, adj_d_rank, adj_t, adj_t_rank, \\\n",
    "                           adj_luck, opp_adj_em, opp_o, opp_d]\n",
    "    df.to_csv('ken_pom_analysis'+str(year)+'.csv')\n",
    "    print(\"done with \", str(year))\n",
    "    return df"
   ]
  },
  {
   "cell_type": "code",
   "execution_count": 40,
   "metadata": {},
   "outputs": [],
   "source": [
    "for i in years: \n",
    "    scrape_per_year(i)"
   ]
  },
  {
   "cell_type": "code",
   "execution_count": null,
   "metadata": {
    "collapsed": true
   },
   "outputs": [],
   "source": []
  }
 ],
 "metadata": {
  "kernelspec": {
   "display_name": "Python 3",
   "language": "python",
   "name": "python3"
  },
  "language_info": {
   "codemirror_mode": {
    "name": "ipython",
    "version": 3
   },
   "file_extension": ".py",
   "mimetype": "text/x-python",
   "name": "python",
   "nbconvert_exporter": "python",
   "pygments_lexer": "ipython3",
   "version": "3.6.3"
  }
 },
 "nbformat": 4,
 "nbformat_minor": 2
}
